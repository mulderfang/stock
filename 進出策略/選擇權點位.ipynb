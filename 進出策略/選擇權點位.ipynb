{
 "cells": [
  {
   "cell_type": "markdown",
   "id": "60b51be2",
   "metadata": {},
   "source": [
    "連線database"
   ]
  },
  {
   "cell_type": "code",
   "execution_count": 90,
   "id": "ff6d72df",
   "metadata": {},
   "outputs": [],
   "source": [
    "import pandas as pd\n",
    "from sqlalchemy import create_engine\n",
    "from datetime import datetime, timedelta\n",
    "\n",
    "# 設置MySQL資料庫連接\n",
    "db_user = 'root'\n",
    "db_password = '19970730'\n",
    "db_host = '127.0.0.1'\n",
    "db_name = 'sql_stock'\n",
    "\n",
    "# 創建資料庫連接引擎\n",
    "engine = create_engine(f'mysql+mysqlconnector://{db_user}:{db_password}@{db_host}/{db_name}')\n",
    "\n",
    "# 設置日期範圍\n",
    "#today = datetime(2024, 5, 25)\n",
    "today = datetime.now().date()\n",
    "one_year_ago = today - timedelta(days=1000)\n",
    "\n",
    "# 格式化日期\n",
    "today_str = today.strftime('%Y%m%d')\n",
    "one_year_ago_str = one_year_ago.strftime('%Y%m%d')\n",
    "\n",
    "# 可自由調整select的區間\n",
    "# today_str = '20240813'\n",
    "today_str = '20241231'\n",
    "one_year_ago_str = '20210101'\n",
    "\n",
    "# SQL 查詢 加權指數\n",
    "query_daily_tx = f\"\"\"\n",
    "SELECT *\n",
    "FROM daily_tx\n",
    "WHERE date >= '{one_year_ago_str}' AND date <= '{today_str}'\n",
    "\"\"\"\n",
    "\n",
    "# SQL 查詢 加權指數\n",
    "query_daily_updown = f\"\"\"\n",
    "SELECT *\n",
    "FROM daily_updown\n",
    "WHERE date >= '{one_year_ago_str}' AND date <= '{today_str}'\n",
    "\"\"\"\n",
    "\n",
    "# SQL 查詢 加權指數\n",
    "query_tif_investors = f\"\"\"\n",
    "SELECT *\n",
    "FROM daily_tif_investors\n",
    "WHERE date >= '{one_year_ago_str}' AND date <= '{today_str}'\n",
    "\"\"\"\n",
    "\n",
    "# SQL 查詢 加權指數\n",
    "query_pc_ratio = f\"\"\"\n",
    "SELECT *\n",
    "FROM daily_pc_ratio\n",
    "WHERE date >= '{one_year_ago_str}' AND date <= '{today_str}'\n",
    "\"\"\"\n",
    "\n",
    "# SQL 查詢 個股\n",
    "query_stock = f\"\"\"\n",
    "SELECT *\n",
    "FROM daily_price\n",
    "WHERE date >= '{one_year_ago_str}' AND date <= '{today_str}'\n",
    "\"\"\"\n",
    "\n",
    "# 使用 pd.read_sql 來執行查詢並讀取數據到 DataFrame\n",
    "tif_investors_df_raw = pd.read_sql(query_tif_investors, engine)\n",
    "# 使用 pd.read_sql 來執行查詢並讀取數據到 DataFrame\n",
    "updown_df_raw = pd.read_sql(query_daily_updown, engine)\n",
    "# 使用 pd.read_sql 來執行查詢並讀取數據到 DataFrame\n",
    "tx_df_raw = pd.read_sql(query_daily_tx, engine)\n",
    "\n",
    "pc_ratio_raw = pd.read_sql(query_pc_ratio, engine)\n",
    "\n",
    "stock_df_raw = pd.read_sql(query_stock, engine)\n",
    "stock_df_raw['Date'] = pd.to_datetime(stock_df_raw['Date'])"
   ]
  },
  {
   "cell_type": "markdown",
   "id": "ffd00601",
   "metadata": {},
   "source": [
    "https://www.wantgoo.com/index/vixtwn\n",
    "\n",
    "波動率可以用這邊的 臺指選擇權波動率指數(VIXTWN)"
   ]
  },
  {
   "cell_type": "code",
   "execution_count": 1,
   "id": "42083ade",
   "metadata": {},
   "outputs": [
    {
     "name": "stdout",
     "output_type": "stream",
     "text": [
      "Call 選擇權價格: 388.75\n",
      "Put 選擇權價格: 169.21\n"
     ]
    }
   ],
   "source": [
    "import numpy as np\n",
    "from scipy.stats import norm\n",
    "\n",
    "def black_scholes_call(S0, K, T, r, sigma):\n",
    "    \"\"\"\n",
    "    計算台指期選擇權的 Call 價格（使用 Black-Scholes 公式）\n",
    "    \n",
    "    參數:\n",
    "        S0: 現貨價格\n",
    "        K: 履約價格\n",
    "        T: 距到期時間（年）\n",
    "        r: 無風險利率\n",
    "        sigma: 波動率\n",
    "    \n",
    "    返回:\n",
    "        Call 選擇權的理論價格\n",
    "    \"\"\"\n",
    "    # 計算 d1 和 d2\n",
    "    d1 = (np.log(S0 / K) + (r + 0.5 * sigma ** 2) * T) / (sigma * np.sqrt(T))\n",
    "    d2 = d1 - sigma * np.sqrt(T)\n",
    "    \n",
    "    # Black-Scholes Call 價格\n",
    "    call_price = S0 * norm.cdf(d1) - K * np.exp(-r * T) * norm.cdf(d2)\n",
    "    put_price = K * np.exp(-r * T) * norm.cdf(-d2) - S0 * norm.cdf(-d1)\n",
    "    return call_price , put_price\n",
    "\n",
    "# 測試\n",
    "S0 = 22461  # 現貨價格\n",
    "K = 22250   # 履約價格\n",
    "T = 7 / 365  # 距到期時間（30天）\n",
    "r = 0.02     # 無風險利率（年化 2%）\n",
    "sigma = 0.2143 # 波動率（15%）\n",
    "\n",
    "call_price, put_price = black_scholes_call(S0, K, T, r, sigma)\n",
    "print(f\"Call 選擇權價格: {call_price:.2f}\")\n",
    "print(f\"Put 選擇權價格: {put_price:.2f}\")\n"
   ]
  }
 ],
 "metadata": {
  "kernelspec": {
   "display_name": "Python 3",
   "language": "python",
   "name": "python3"
  },
  "language_info": {
   "codemirror_mode": {
    "name": "ipython",
    "version": 3
   },
   "file_extension": ".py",
   "mimetype": "text/x-python",
   "name": "python",
   "nbconvert_exporter": "python",
   "pygments_lexer": "ipython3",
   "version": "3.12.7"
  }
 },
 "nbformat": 4,
 "nbformat_minor": 5
}
