{
 "cells": [
  {
   "cell_type": "markdown",
   "id": "60b51be2",
   "metadata": {},
   "source": [
    "連線database"
   ]
  },
  {
   "cell_type": "code",
   "execution_count": 1,
   "id": "ff6d72df",
   "metadata": {},
   "outputs": [],
   "source": [
    "import pandas as pd\n",
    "from sqlalchemy import create_engine\n",
    "from datetime import datetime, timedelta\n",
    "\n",
    "# 設置MySQL資料庫連接\n",
    "db_user = 'root'\n",
    "db_password = '19970730'\n",
    "db_host = '127.0.0.1'\n",
    "db_name = 'sql_stock'\n",
    "\n",
    "# 創建資料庫連接引擎\n",
    "engine = create_engine(f'mysql+mysqlconnector://{db_user}:{db_password}@{db_host}/{db_name}')\n",
    "\n",
    "# 設置日期範圍\n",
    "#today = datetime(2024, 5, 25)\n",
    "today = datetime.now().date()\n",
    "one_year_ago = today - timedelta(days=1000)\n",
    "\n",
    "# 格式化日期\n",
    "today_str = today.strftime('%Y%m%d')\n",
    "one_year_ago_str = one_year_ago.strftime('%Y%m%d')\n",
    "\n",
    "# 可自由調整select的區間\n",
    "# today_str = '20240813'\n",
    "today_str = '20241231'\n",
    "one_year_ago_str = '20210101'\n",
    "\n",
    "# SQL 查詢 加權指數\n",
    "query_daily_tx = f\"\"\"\n",
    "SELECT *\n",
    "FROM daily_tx\n",
    "WHERE date >= '{one_year_ago_str}' AND date <= '{today_str}'\n",
    "\"\"\"\n",
    "\n",
    "# SQL 查詢 加權指數\n",
    "query_daily_updown = f\"\"\"\n",
    "SELECT *\n",
    "FROM daily_updown\n",
    "WHERE date >= '{one_year_ago_str}' AND date <= '{today_str}'\n",
    "\"\"\"\n",
    "\n",
    "# SQL 查詢 加權指數\n",
    "query_tif_investors = f\"\"\"\n",
    "SELECT *\n",
    "FROM daily_tif_investors\n",
    "WHERE date >= '{one_year_ago_str}' AND date <= '{today_str}'\n",
    "\"\"\"\n",
    "\n",
    "# SQL 查詢 加權指數\n",
    "query_pc_ratio = f\"\"\"\n",
    "SELECT *\n",
    "FROM daily_pc_ratio\n",
    "WHERE date >= '{one_year_ago_str}' AND date <= '{today_str}'\n",
    "\"\"\"\n",
    "\n",
    "# SQL 查詢 個股\n",
    "query_stock = f\"\"\"\n",
    "SELECT *\n",
    "FROM daily_price\n",
    "WHERE date >= '{one_year_ago_str}' AND date <= '{today_str}'\n",
    "\"\"\"\n",
    "\n",
    "# 使用 pd.read_sql 來執行查詢並讀取數據到 DataFrame\n",
    "tif_investors_df_raw = pd.read_sql(query_tif_investors, engine)\n",
    "# 使用 pd.read_sql 來執行查詢並讀取數據到 DataFrame\n",
    "updown_df_raw = pd.read_sql(query_daily_updown, engine)\n",
    "# 使用 pd.read_sql 來執行查詢並讀取數據到 DataFrame\n",
    "tx_df_raw = pd.read_sql(query_daily_tx, engine)\n",
    "\n",
    "pc_ratio_raw = pd.read_sql(query_pc_ratio, engine)\n",
    "\n",
    "stock_df_raw = pd.read_sql(query_stock, engine)\n",
    "stock_df_raw['Date'] = pd.to_datetime(stock_df_raw['Date'])"
   ]
  },
  {
   "cell_type": "code",
   "execution_count": 4,
   "id": "e2e7ea1e",
   "metadata": {},
   "outputs": [],
   "source": [
    "# 每天成交金額\n",
    "stock_date_list = stock_df_raw[(stock_df_raw['Date']>='2024-12-10' ) & (stock_df_raw['Date']<='2024-12-19' ) & (stock_df_raw['證券代號'] == '2330' ) ]['Date']\n",
    "collected_data = pd.DataFrame(columns=['證券代號','證券名稱', '收盤價', 'Date'])\n",
    "\n",
    "for day in stock_date_list:\n",
    "        stock_df_today = stock_df_raw[(stock_df_raw['Date'] == day)].sort_values(by='成交金額',ascending=False).head(30)"
   ]
  },
  {
   "cell_type": "code",
   "execution_count": 5,
   "id": "c17e4686",
   "metadata": {},
   "outputs": [
    {
     "name": "stderr",
     "output_type": "stream",
     "text": [
      "C:\\Users\\USER\\AppData\\Local\\Temp\\ipykernel_18268\\3550276947.py:35: FutureWarning: The behavior of DataFrame concatenation with empty or all-NA entries is deprecated. In a future version, this will no longer exclude empty or all-NA columns when determining the result dtypes. To retain the old behavior, exclude the relevant entries before the concat operation.\n",
      "  change_log = pd.concat([\n"
     ]
    },
    {
     "data": {
      "text/html": [
       "<div>\n",
       "<style scoped>\n",
       "    .dataframe tbody tr th:only-of-type {\n",
       "        vertical-align: middle;\n",
       "    }\n",
       "\n",
       "    .dataframe tbody tr th {\n",
       "        vertical-align: top;\n",
       "    }\n",
       "\n",
       "    .dataframe thead th {\n",
       "        text-align: right;\n",
       "    }\n",
       "</style>\n",
       "<table border=\"1\" class=\"dataframe\">\n",
       "  <thead>\n",
       "    <tr style=\"text-align: right;\">\n",
       "      <th></th>\n",
       "      <th>Date</th>\n",
       "      <th>新增股票</th>\n",
       "      <th>被踢出股票</th>\n",
       "      <th>濾網股票</th>\n",
       "    </tr>\n",
       "  </thead>\n",
       "  <tbody>\n",
       "    <tr>\n",
       "      <th>30</th>\n",
       "      <td>2024-12-16</td>\n",
       "      <td>信驊, 京元電子, 緯創, 奇鋐, 廣達</td>\n",
       "      <td>零壹, 聯亞, 聯電, 上詮, 華星光</td>\n",
       "      <td></td>\n",
       "    </tr>\n",
       "    <tr>\n",
       "      <th>31</th>\n",
       "      <td>2024-12-17</td>\n",
       "      <td>佳能, 聯電, 旺矽, 智原, 祥碩, 羅昇, 所羅門</td>\n",
       "      <td>信驊, 順達, 京元電子, 智邦, 緯創, 台達電, 奇鋐</td>\n",
       "      <td>佳能, 旺矽, 智原, 羅昇, 祥碩, 所羅門</td>\n",
       "    </tr>\n",
       "    <tr>\n",
       "      <th>32</th>\n",
       "      <td>2024-12-18</td>\n",
       "      <td>華通, 順達, 上銀, 貿聯-KY, 長榮, 奇鋐, 全球傳動, 台灣精銳</td>\n",
       "      <td>佳能, 金像電, 聯電, 旺矽, 智原, 祥碩, 羅昇, 陽明</td>\n",
       "      <td>華通, 上銀, 台灣精銳</td>\n",
       "    </tr>\n",
       "    <tr>\n",
       "      <th>33</th>\n",
       "      <td>2024-12-19</td>\n",
       "      <td>鈞興-KY, 佳能, 智邦, 新盛力, 華星光, 陽明</td>\n",
       "      <td>華通, 順達, 奇鋐, 全球傳動, 台光電, 台灣精銳</td>\n",
       "      <td>智邦, 佳能, 鈞興-KY, 新盛力</td>\n",
       "    </tr>\n",
       "    <tr>\n",
       "      <th>34</th>\n",
       "      <td>2024-12-20</td>\n",
       "      <td>立碁, 眾達-KY, 環宇-KY, 啟碁, 奇鋐, 台光電</td>\n",
       "      <td>鈞興-KY, 上銀, 貿聯-KY, 新盛力, 華星光, 神達</td>\n",
       "      <td>環宇-KY, 啟碁</td>\n",
       "    </tr>\n",
       "  </tbody>\n",
       "</table>\n",
       "</div>"
      ],
      "text/plain": [
       "         Date                                   新增股票  \\\n",
       "30 2024-12-16                   信驊, 京元電子, 緯創, 奇鋐, 廣達   \n",
       "31 2024-12-17            佳能, 聯電, 旺矽, 智原, 祥碩, 羅昇, 所羅門   \n",
       "32 2024-12-18  華通, 順達, 上銀, 貿聯-KY, 長榮, 奇鋐, 全球傳動, 台灣精銳   \n",
       "33 2024-12-19            鈞興-KY, 佳能, 智邦, 新盛力, 華星光, 陽明   \n",
       "34 2024-12-20          立碁, 眾達-KY, 環宇-KY, 啟碁, 奇鋐, 台光電   \n",
       "\n",
       "                              被踢出股票                     濾網股票  \n",
       "30              零壹, 聯亞, 聯電, 上詮, 華星光                           \n",
       "31    信驊, 順達, 京元電子, 智邦, 緯創, 台達電, 奇鋐  佳能, 旺矽, 智原, 羅昇, 祥碩, 所羅門  \n",
       "32  佳能, 金像電, 聯電, 旺矽, 智原, 祥碩, 羅昇, 陽明             華通, 上銀, 台灣精銳  \n",
       "33      華通, 順達, 奇鋐, 全球傳動, 台光電, 台灣精銳       智邦, 佳能, 鈞興-KY, 新盛力  \n",
       "34   鈞興-KY, 上銀, 貿聯-KY, 新盛力, 華星光, 神達                環宇-KY, 啟碁  "
      ]
     },
     "execution_count": 5,
     "metadata": {},
     "output_type": "execute_result"
    }
   ],
   "source": [
    "import pandas as pd\n",
    "\n",
    "# 篩選指定日期範圍的資料\n",
    "stock_date_list = stock_df_raw[\n",
    "    (stock_df_raw['Date'] >= '2024-11-01') & \n",
    "    (stock_df_raw['Date'] <= '2024-12-20') & \n",
    "    (stock_df_raw['證券代號'] == '2330')\n",
    "]['Date'].unique()\n",
    "\n",
    "# 初始化 DataFrame 紀錄每日變動\n",
    "change_log = pd.DataFrame(columns=['Date', '新增股票', '被踢出股票', '濾網股票'])\n",
    "\n",
    "# 初始化前一天排行榜的股票列表\n",
    "previous_top_stocks = set()\n",
    "\n",
    "for idx, day in enumerate(stock_date_list):\n",
    "    # 當日排行榜股票（Top 30，依成交金額排序）\n",
    "    stock_df_today = stock_df_raw[stock_df_raw['Date'] == day].sort_values(by='成交金額', ascending=False).head(20)\n",
    "    # stock_df_today_filter = stock_df_today[(stock_df_today['20RS_rank'] > 90) ]\n",
    "    current_top_stocks = set(stock_df_today['證券名稱'].values)\n",
    "\n",
    "    # 新增濾網\n",
    "    stock_df_today_filter = stock_df_today[(stock_df_today['20RS_rank'] > 90) & (stock_df_today['收盤價'] > stock_df_today['開盤價'])  ]\n",
    "\n",
    "    if idx > 0:  # 從第二天開始記錄變化\n",
    "        # 計算進入和被踢出的股票\n",
    "        new_entries = current_top_stocks - previous_top_stocks  # 當天新增進入的股票\n",
    "        removed_entries = previous_top_stocks - current_top_stocks  # 當天被踢出的股票\n",
    "\n",
    "        # 新增條件的股票\n",
    "        filter_stock = set(stock_df_today_filter['證券名稱'].values)\n",
    "\n",
    "\n",
    "        # 將變化紀錄到 DataFrame\n",
    "        change_log = pd.concat([\n",
    "            change_log,\n",
    "            pd.DataFrame({\n",
    "                'Date': [day],\n",
    "                '新增股票': [', '.join(new_entries)],\n",
    "                '被踢出股票': [', '.join(removed_entries)],\n",
    "                '濾網股票' : [', '.join(new_entries & filter_stock)],\n",
    "            })\n",
    "        ], ignore_index=True)\n",
    "    \n",
    "    # 更新前一天的排行榜\n",
    "    previous_top_stocks = current_top_stocks\n",
    "\n",
    "# 查看結果\n",
    "change_log.tail(5)"
   ]
  },
  {
   "cell_type": "code",
   "execution_count": 30,
   "id": "c8787be3",
   "metadata": {},
   "outputs": [],
   "source": [
    "import pandas as pd\n",
    "\n",
    "# 定義分頁名稱\n",
    "sheet_names = ['2023Q1', '2023Q2', '2023Q3', '2023Q4','2024Q1', '2024Q2', '2024Q3', '2024Q4']\n",
    "\n",
    "# 初始化一個空列表來存放各分頁的 DataFrame\n",
    "dataframes = []\n",
    "\n",
    "# 遍歷分頁名稱，讀取每個分頁並添加到列表中\n",
    "for sheet in sheet_names:\n",
    "    df = pd.read_excel('c:/Users/USER/OneDrive/桌面/佛爾德/p1_excel.xlsx', sheet_name=sheet)\n",
    "    # df['Quarter'] = sheet  # 添加一列以標記分頁來源\n",
    "    dataframes.append(df)\n",
    "\n",
    "# 將所有 DataFrame 合併成一個\n",
    "final_df = pd.concat(dataframes, ignore_index=True)\n",
    "\n",
    "# 查看合併結果\n",
    "final_df.rename(columns={'成交日期': 'Date','股票名稱': '證券名稱','成交股數': '賣出股數'}, inplace=True)\n",
    "\n",
    "final_df.iloc[22, final_df.columns.get_loc('Date')] = '2023/03/22'\n",
    "final_df['Date'] = pd.to_datetime(final_df['Date'])\n",
    "# final_df['Date'] = pd.to_datetime(final_df['Date'], format='%Y/%m/%d')\n",
    "# final_df['Date'] = final_df['Date'].dt.strftime('%Y-%m-%d')\n",
    "\n",
    "final_df = final_df[(final_df['賣出股數'] > 1000) & (final_df['交易類別'] != '融券')]\n",
    "merged_df = pd.merge(final_df, stock_df_raw, on=['Date', '證券名稱'], how='inner')"
   ]
  },
  {
   "cell_type": "code",
   "execution_count": 45,
   "id": "a575b55e",
   "metadata": {},
   "outputs": [
    {
     "data": {
      "text/html": [
       "<div>\n",
       "<style scoped>\n",
       "    .dataframe tbody tr th:only-of-type {\n",
       "        vertical-align: middle;\n",
       "    }\n",
       "\n",
       "    .dataframe tbody tr th {\n",
       "        vertical-align: top;\n",
       "    }\n",
       "\n",
       "    .dataframe thead th {\n",
       "        text-align: right;\n",
       "    }\n",
       "</style>\n",
       "<table border=\"1\" class=\"dataframe\">\n",
       "  <thead>\n",
       "    <tr style=\"text-align: right;\">\n",
       "      <th></th>\n",
       "      <th>Date</th>\n",
       "      <th>證券名稱</th>\n",
       "      <th>交易類別</th>\n",
       "      <th>賣出股數</th>\n",
       "      <th>成交價格</th>\n",
       "      <th>報酬率(％)</th>\n",
       "    </tr>\n",
       "  </thead>\n",
       "  <tbody>\n",
       "    <tr>\n",
       "      <th>0</th>\n",
       "      <td>2023-03-30</td>\n",
       "      <td>富邦越南</td>\n",
       "      <td>普通</td>\n",
       "      <td>21000</td>\n",
       "      <td>11.24</td>\n",
       "      <td>-33.48</td>\n",
       "    </tr>\n",
       "    <tr>\n",
       "      <th>1</th>\n",
       "      <td>2023-03-30</td>\n",
       "      <td>富邦越南</td>\n",
       "      <td>普通</td>\n",
       "      <td>20000</td>\n",
       "      <td>11.24</td>\n",
       "      <td>-33.48</td>\n",
       "    </tr>\n",
       "    <tr>\n",
       "      <th>2</th>\n",
       "      <td>2023-03-30</td>\n",
       "      <td>富邦越南</td>\n",
       "      <td>普通</td>\n",
       "      <td>20000</td>\n",
       "      <td>11.24</td>\n",
       "      <td>-33.48</td>\n",
       "    </tr>\n",
       "    <tr>\n",
       "      <th>3</th>\n",
       "      <td>2023-03-30</td>\n",
       "      <td>台肥</td>\n",
       "      <td>普通</td>\n",
       "      <td>10000</td>\n",
       "      <td>56.40</td>\n",
       "      <td>-16.39</td>\n",
       "    </tr>\n",
       "    <tr>\n",
       "      <th>4</th>\n",
       "      <td>2023-03-30</td>\n",
       "      <td>瓦城</td>\n",
       "      <td>普通</td>\n",
       "      <td>2000</td>\n",
       "      <td>248.50</td>\n",
       "      <td>7.63</td>\n",
       "    </tr>\n",
       "    <tr>\n",
       "      <th>...</th>\n",
       "      <td>...</td>\n",
       "      <td>...</td>\n",
       "      <td>...</td>\n",
       "      <td>...</td>\n",
       "      <td>...</td>\n",
       "      <td>...</td>\n",
       "    </tr>\n",
       "    <tr>\n",
       "      <th>288</th>\n",
       "      <td>2024-12-10</td>\n",
       "      <td>融程電</td>\n",
       "      <td>普通</td>\n",
       "      <td>8000</td>\n",
       "      <td>156.50</td>\n",
       "      <td>6.06</td>\n",
       "    </tr>\n",
       "    <tr>\n",
       "      <th>289</th>\n",
       "      <td>2024-12-10</td>\n",
       "      <td>融程電</td>\n",
       "      <td>普通</td>\n",
       "      <td>2000</td>\n",
       "      <td>156.00</td>\n",
       "      <td>5.72</td>\n",
       "    </tr>\n",
       "    <tr>\n",
       "      <th>290</th>\n",
       "      <td>2024-12-10</td>\n",
       "      <td>永信</td>\n",
       "      <td>普通</td>\n",
       "      <td>30000</td>\n",
       "      <td>55.70</td>\n",
       "      <td>2.13</td>\n",
       "    </tr>\n",
       "    <tr>\n",
       "      <th>291</th>\n",
       "      <td>2024-12-10</td>\n",
       "      <td>東洋</td>\n",
       "      <td>普通</td>\n",
       "      <td>20000</td>\n",
       "      <td>74.30</td>\n",
       "      <td>-1.05</td>\n",
       "    </tr>\n",
       "    <tr>\n",
       "      <th>292</th>\n",
       "      <td>2024-12-10</td>\n",
       "      <td>百和興業</td>\n",
       "      <td>普通</td>\n",
       "      <td>8000</td>\n",
       "      <td>30.75</td>\n",
       "      <td>49.67</td>\n",
       "    </tr>\n",
       "  </tbody>\n",
       "</table>\n",
       "<p>225 rows × 6 columns</p>\n",
       "</div>"
      ],
      "text/plain": [
       "          Date  證券名稱 交易類別   賣出股數    成交價格  報酬率(％)\n",
       "0   2023-03-30  富邦越南   普通  21000   11.24  -33.48\n",
       "1   2023-03-30  富邦越南   普通  20000   11.24  -33.48\n",
       "2   2023-03-30  富邦越南   普通  20000   11.24  -33.48\n",
       "3   2023-03-30    台肥   普通  10000   56.40  -16.39\n",
       "4   2023-03-30    瓦城   普通   2000  248.50    7.63\n",
       "..         ...   ...  ...    ...     ...     ...\n",
       "288 2024-12-10   融程電   普通   8000  156.50    6.06\n",
       "289 2024-12-10   融程電   普通   2000  156.00    5.72\n",
       "290 2024-12-10    永信   普通  30000   55.70    2.13\n",
       "291 2024-12-10    東洋   普通  20000   74.30   -1.05\n",
       "292 2024-12-10  百和興業   普通   8000   30.75   49.67\n",
       "\n",
       "[225 rows x 6 columns]"
      ]
     },
     "execution_count": 45,
     "metadata": {},
     "output_type": "execute_result"
    }
   ],
   "source": [
    "final_df"
   ]
  },
  {
   "cell_type": "code",
   "execution_count": 31,
   "id": "859126e2",
   "metadata": {},
   "outputs": [
    {
     "name": "stdout",
     "output_type": "stream",
     "text": [
      "23.139754098360655\n",
      "-11.17031746031746\n",
      "0.6594594594594595\n",
      "54.407261908108104\n",
      "72.47300247027027\n"
     ]
    }
   ],
   "source": [
    "print(merged_df[merged_df['報酬率(％)'] > 0]['報酬率(％)'].mean())\n",
    "print(merged_df[merged_df['報酬率(％)'] < 0]['報酬率(％)'].mean())\n",
    "\n",
    "print(len(merged_df[merged_df['報酬率(％)'] > 0]['報酬率(％)']) / len(merged_df['報酬率(％)'])  )\n",
    "\n",
    "print(merged_df['60RS_rank'].mean())\n",
    "print(merged_df['240RS_rank'].mean())"
   ]
  },
  {
   "cell_type": "code",
   "execution_count": 83,
   "id": "36893be2",
   "metadata": {},
   "outputs": [],
   "source": [
    "# merged_df[merged_df['成交價格'] < merged_df['5MA']]\n",
    "\n",
    "# 按 Date 和 證券名稱 分组，计算平均成交價格\n",
    "grouped_df = (\n",
    "    final_df\n",
    "    .groupby(['Date', '證券名稱'])\n",
    "    .agg(平均成交價格=('成交價格', 'mean') , 平均報酬率=('報酬率(％)', 'mean'), 股數=('賣出股數', 'sum'))\n",
    "    .reset_index()\n",
    ")\n",
    "\n",
    "\n",
    "merged_df_group = pd.merge(grouped_df, stock_df_raw, on=['Date', '證券名稱'], how='inner')\n",
    "\n",
    "merged_df_group1 = merged_df_group[merged_df_group['平均報酬率'] > 0]\n",
    "merged_df_group2 = merged_df_group[merged_df_group['平均報酬率'] <= 0]\n",
    "\n",
    "\n",
    "merged_df_group['股數'] = merged_df_group['股數']/1000\n",
    "# 新光金是事件交易 砍掉\n",
    "merged_df_group = merged_df_group[merged_df_group['股數'] < 100]"
   ]
  },
  {
   "cell_type": "code",
   "execution_count": 96,
   "id": "928690bb",
   "metadata": {},
   "outputs": [
    {
     "data": {
      "text/plain": [
       "17.127142857142857"
      ]
     },
     "execution_count": 96,
     "metadata": {},
     "output_type": "execute_result"
    }
   ],
   "source": [
    "merged_df_group[merged_df_group['股數'] < 10]['平均報酬率'].mean()"
   ]
  },
  {
   "cell_type": "code",
   "execution_count": null,
   "id": "803eb791",
   "metadata": {},
   "outputs": [
    {
     "data": {
      "image/png": "[encoded data removed]",
      "text/plain": [
       "<Figure size 1000x600 with 1 Axes>"
      ]
     },
     "metadata": {},
     "output_type": "display_data"
    }
   ],
   "source": [
    "\n",
    "# 賣出股數\n",
    "import matplotlib.pyplot as plt\n",
    "\n",
    "# 假设 merged_df 已包含 '20RS_rank' 列\n",
    "merged_df_group['股數'].plot.hist(\n",
    "    bins=100,  # 直方图的柱子数量\n",
    "    figsize=(10, 6),  # 图表大小\n",
    "    color='skyblue',  # 颜色\n",
    "    alpha=0.8,  # 透明度\n",
    "    title= 'stock number'  # 图表标题\n",
    ")\n",
    "\n",
    "# 添加轴标签\n",
    "plt.xlabel('stock number')\n",
    "plt.ylabel('Frequency')\n",
    "\n",
    "# 显示图表\n",
    "plt.show()"
   ]
  },
  {
   "cell_type": "code",
   "execution_count": 117,
   "id": "0844f5fc",
   "metadata": {},
   "outputs": [
    {
     "name": "stdout",
     "output_type": "stream",
     "text": [
      "22.01\n",
      "-10.74\n",
      "0.66\n"
     ]
    }
   ],
   "source": [
    "print(round(merged_df_group1['平均報酬率'].mean(),2))\n",
    "print(round(merged_df_group2['平均報酬率'].mean(),2))\n",
    "print(round(len(merged_df_group1) / len(merged_df_group['平均報酬率']),2))"
   ]
  },
  {
   "cell_type": "markdown",
   "id": "269e5c8b",
   "metadata": {},
   "source": [
    "賺賠比 2 : 1 勝率 6成6"
   ]
  },
  {
   "cell_type": "code",
   "execution_count": 104,
   "id": "75100d08",
   "metadata": {},
   "outputs": [
    {
     "name": "stdout",
     "output_type": "stream",
     "text": [
      "0.34\n",
      "0.38\n",
      "0.51\n",
      "0.81\n",
      "0.96\n",
      "=========================\n",
      "0.24\n",
      "0.21\n",
      "0.19\n",
      "0.43\n",
      "0.6\n"
     ]
    }
   ],
   "source": [
    "print(round(len(merged_df_group1[merged_df_group1['平均成交價格'] > merged_df_group1['5MA']]) / len(merged_df_group1),2 ))\n",
    "print(round(len(merged_df_group1[merged_df_group1['平均成交價格'] > merged_df_group1['10MA']]) / len(merged_df_group1),2 ))\n",
    "print(round(len(merged_df_group1[merged_df_group1['平均成交價格'] > merged_df_group1['20MA']]) / len(merged_df_group1),2 ))\n",
    "print(round(len(merged_df_group1[merged_df_group1['平均成交價格'] > merged_df_group1['60MA']]) / len(merged_df_group1),2 ))\n",
    "print(round(len(merged_df_group1[merged_df_group1['平均成交價格'] > merged_df_group1['240MA']]) / len(merged_df_group1),2 ))\n",
    "\n",
    "print('=========================')\n",
    "\n",
    "print(round(len(merged_df_group2[merged_df_group2['平均成交價格'] > merged_df_group2['5MA']]) / len(merged_df_group2),2 ))\n",
    "print(round(len(merged_df_group2[merged_df_group2['平均成交價格'] > merged_df_group2['10MA']]) / len(merged_df_group2),2 ))\n",
    "print(round(len(merged_df_group2[merged_df_group2['平均成交價格'] > merged_df_group2['20MA']]) / len(merged_df_group2) ,2 ))\n",
    "print(round(len(merged_df_group2[merged_df_group2['平均成交價格'] > merged_df_group2['60MA']]) / len(merged_df_group2) ,2 ))\n",
    "print(round(len(merged_df_group2[merged_df_group2['平均成交價格'] > merged_df_group2['240MA']]) / len(merged_df_group2) ,2 ))"
   ]
  },
  {
   "cell_type": "markdown",
   "id": "5f5815fb",
   "metadata": {},
   "source": [
    "停利點 幾乎都在 均線之上 但停損點幾乎都在均線之下 可以想像是 停利不會因為要破線才走 但停損一定是破線就走囉?"
   ]
  },
  {
   "cell_type": "code",
   "execution_count": 113,
   "id": "2fc5543d",
   "metadata": {},
   "outputs": [
    {
     "data": {
      "image/png": "[encoded data removed]",
      "text/plain": [
       "<Figure size 1000x600 with 1 Axes>"
      ]
     },
     "metadata": {},
     "output_type": "display_data"
    }
   ],
   "source": [
    "import matplotlib.pyplot as plt\n",
    "\n",
    "title= '60RS_rank'\n",
    "# 假设 merged_df 已包含 '20RS_rank' 列\n",
    "merged_df[title].plot.hist(\n",
    "    bins=50,  # 直方图的柱子数量\n",
    "    figsize=(10, 6),  # 图表大小\n",
    "    color='skyblue',  # 颜色\n",
    "    alpha=0.8,  # 透明度\n",
    "    title= title + ' Distribution'  # 图表标题\n",
    ")\n",
    "\n",
    "# 添加轴标签\n",
    "plt.xlabel(title)\n",
    "plt.ylabel('Frequency')\n",
    "\n",
    "# 显示图表\n",
    "plt.show()"
   ]
  },
  {
   "cell_type": "code",
   "execution_count": 58,
   "id": "a6fd1da5",
   "metadata": {},
   "outputs": [
    {
     "data": {
      "image/png": "[encoded data removed]",
      "text/plain": [
       "<Figure size 1000x600 with 1 Axes>"
      ]
     },
     "metadata": {},
     "output_type": "display_data"
    }
   ],
   "source": [
    "import matplotlib.pyplot as plt\n",
    "\n",
    "title= '240RS_rank'\n",
    "# 假设 merged_df 已包含 '20RS_rank' 列\n",
    "merged_df[title].plot.hist(\n",
    "    bins=50,  # 直方图的柱子数量\n",
    "    figsize=(10, 6),  # 图表大小\n",
    "    color='skyblue',  # 颜色\n",
    "    alpha=0.8,  # 透明度\n",
    "    title= title + ' Distribution'  # 图表标题\n",
    ")\n",
    "\n",
    "# 添加轴标签\n",
    "plt.xlabel(title)\n",
    "plt.ylabel('Frequency')\n",
    "\n",
    "# 显示图表\n",
    "plt.show()\n"
   ]
  }
 ],
 "metadata": {
  "kernelspec": {
   "display_name": "Python 3",
   "language": "python",
   "name": "python3"
  },
  "language_info": {
   "codemirror_mode": {
    "name": "ipython",
    "version": 3
   },
   "file_extension": ".py",
   "mimetype": "text/x-python",
   "name": "python",
   "nbconvert_exporter": "python",
   "pygments_lexer": "ipython3",
   "version": "3.12.8"
  }
 },
 "nbformat": 4,
 "nbformat_minor": 5
}
